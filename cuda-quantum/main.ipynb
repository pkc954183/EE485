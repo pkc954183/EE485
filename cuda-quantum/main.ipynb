{
  "cells": [
    {
      "cell_type": "code",
      "execution_count": 5,
      "metadata": {
        "id": "rWBWdOsywn7M"
      },
      "outputs": [],
      "source": [
        "%%capture\n",
        "\n",
        "!pip install cudaq"
      ]
    },
    {
      "cell_type": "code",
      "execution_count": 6,
      "metadata": {
        "colab": {
          "base_uri": "https://localhost:8080/"
        },
        "id": "b-_vjLFuwn7O",
        "outputId": "2e60d96c-19ab-49ae-9271-027986d5caa1"
      },
      "outputs": [
        {
          "name": "stdout",
          "output_type": "stream",
          "text": [
            "Enter your IonQ API key: ··········\n"
          ]
        }
      ],
      "source": [
        "import cudaq\n",
        "\n",
        "import os\n",
        "from getpass import getpass\n",
        "\n",
        "api_key = os.getenv('IONQ_API_KEY') or getpass('Enter your IonQ API key: ')\n",
        "os.environ['IONQ_API_KEY'] = api_key  # Remove when set_target takes api_key\n",
        "cudaq.set_target('ionq', qpu='simulator')"
      ]
    },
    {
      "cell_type": "code",
      "execution_count": null,
      "metadata": {
        "id": "Xyov3eVRwn7O",
        "outputId": "fb0a8e37-4e53-4555-8849-57534a2efa7c"
      },
      "outputs": [
        {
          "name": "stdout",
          "output_type": "stream",
          "text": [
            "{ 3:50 0:50 }\n",
            "\n"
          ]
        }
      ],
      "source": [
        "# Define the kernel and allocate two qubits\n",
        "kernel = cudaq.make_kernel()\n",
        "qubits = kernel.qalloc(2)\n",
        "\n",
        "# Apply a Hadamard gate to the first qubit\n",
        "kernel.h(qubits[0])\n",
        "\n",
        "# Apply a CX gate from the first to second qubit\n",
        "kernel.cx(qubits[0], qubits[1])\n",
        "\n",
        "# Execute the kernel on the computer and print the result\n",
        "print(cudaq.sample(kernel))"
      ]
    },
    {
      "cell_type": "code",
      "source": [
        "import cudaq\n",
        "\n",
        "# Define a circuit (CUDA-Q kernel)\n",
        "@cudaq.kernel\n",
        "def hello_world():\n",
        "    qubits = cudaq.qvector(2)\n",
        "    h(qubits[0])\n",
        "    x.ctrl(qubits[0], qubits[1])\n",
        "\n",
        "# Set the target to IonQ's simulator\n",
        "cudaq.set_target('ionq')\n",
        "\n",
        "# Run the circuit and print results\n",
        "result = cudaq.sample(hello_world)\n",
        "print(result)"
      ],
      "metadata": {
        "colab": {
          "base_uri": "https://localhost:8080/"
        },
        "id": "56R2HSYF0lYz",
        "outputId": "95e9c2dc-11a5-45be-ab0e-a659f77f994f"
      },
      "execution_count": 7,
      "outputs": [
        {
          "output_type": "stream",
          "name": "stdout",
          "text": [
            "{ 00:500 11:500 }\n",
            "\n"
          ]
        }
      ]
    },
    {
      "cell_type": "code",
      "source": [
        "import cudaq\n",
        "\n",
        "# Define a circuit (CUDA-Q kernel)\n",
        "@cudaq.kernel\n",
        "def hello_qpu():\n",
        "    qubits = cudaq.qvector(2)\n",
        "    h(qubits[0])\n",
        "    x.ctrl(qubits[0], qubits[1])\n",
        "\n",
        "# Set the target to IonQ Aria 1\n",
        "cudaq.set_target('ionq', qpu='qpu.aria-1')\n",
        "\n",
        "# Submit the circuit\n",
        "async_result = cudaq.sample_async(hello_qpu, shots_count=1000)\n",
        "\n",
        "# Save the job information to a file\n",
        "with open(\"hello_qpu.txt\", \"w\") as file:\n",
        "    file.write(str(async_result))"
      ],
      "metadata": {
        "collapsed": true,
        "colab": {
          "base_uri": "https://localhost:8080/"
        },
        "id": "6mCIjXi_1EAz",
        "outputId": "e6454516-7b24-4fcf-e2fe-149d946247b0"
      },
      "execution_count": null,
      "outputs": [
        {
          "output_type": "stream",
          "name": "stderr",
          "text": [
            "ERROR:root:Internal Python error in the inspect module.\n",
            "Below is the traceback from this internal error.\n",
            "\n",
            "ERROR:root:Internal Python error in the inspect module.\n",
            "Below is the traceback from this internal error.\n",
            "\n",
            "ERROR:root:Internal Python error in the inspect module.\n",
            "Below is the traceback from this internal error.\n",
            "\n"
          ]
        },
        {
          "output_type": "stream",
          "name": "stdout",
          "text": [
            "RuntimeError: HTTP POST Error - status code 400: : {\"statusCode\":400,\"error\":\"Bad Request\",\"message\":\"Unable to run jobs on IonQ Aria. Please visit our Quantum Cloud Page https://ionq.com/quantum-cloud to learn more about getting access to our IonQ Aria.\"}\n",
            "\n",
            "During handling of the above exception, another exception occurred:\n",
            "\n",
            "AttributeError: 'RuntimeError' object has no attribute '_render_traceback_'\n",
            "\n",
            "During handling of the above exception, another exception occurred:\n",
            "\n",
            "AssertionError\n",
            "RuntimeError: HTTP POST Error - status code 400: : {\"statusCode\":400,\"error\":\"Bad Request\",\"message\":\"Unable to run jobs on IonQ Aria. Please visit our Quantum Cloud Page https://ionq.com/quantum-cloud to learn more about getting access to our IonQ Aria.\"}\n",
            "\n",
            "During handling of the above exception, another exception occurred:\n",
            "\n",
            "AttributeError: 'RuntimeError' object has no attribute '_render_traceback_'\n",
            "\n",
            "During handling of the above exception, another exception occurred:\n",
            "\n",
            "TypeError: object of type 'NoneType' has no len()\n",
            "\n",
            "During handling of the above exception, another exception occurred:\n",
            "\n",
            "AttributeError: 'TypeError' object has no attribute '_render_traceback_'\n",
            "\n",
            "During handling of the above exception, another exception occurred:\n",
            "\n",
            "AssertionError\n",
            "RuntimeError: HTTP POST Error - status code 400: : {\"statusCode\":400,\"error\":\"Bad Request\",\"message\":\"Unable to run jobs on IonQ Aria. Please visit our Quantum Cloud Page https://ionq.com/quantum-cloud to learn more about getting access to our IonQ Aria.\"}\n",
            "\n",
            "During handling of the above exception, another exception occurred:\n",
            "\n",
            "AttributeError: 'RuntimeError' object has no attribute '_render_traceback_'\n",
            "\n",
            "During handling of the above exception, another exception occurred:\n",
            "\n",
            "TypeError: object of type 'NoneType' has no len()\n",
            "\n",
            "During handling of the above exception, another exception occurred:\n",
            "\n",
            "AttributeError: 'TypeError' object has no attribute '_render_traceback_'\n",
            "\n",
            "During handling of the above exception, another exception occurred:\n",
            "\n",
            "TypeError: object of type 'NoneType' has no len()\n",
            "\n",
            "During handling of the above exception, another exception occurred:\n",
            "\n",
            "AttributeError: 'TypeError' object has no attribute '_render_traceback_'\n",
            "\n",
            "During handling of the above exception, another exception occurred:\n",
            "\n",
            "AssertionError\n"
          ]
        }
      ]
    },
    {
      "cell_type": "code",
      "source": [
        "import numpy as np\n",
        "import cudaq\n",
        "from cudaq import spin\n",
        "from typing import List\n",
        "\n",
        "# We'll use the graph below to illustrate how QAOA can be used to\n",
        "# solve a max cut problem\n",
        "\n",
        "#       v1  0--------------0 v2\n",
        "#           |              | \\\n",
        "#           |              |  \\\n",
        "#           |              |   \\\n",
        "#           |              |    \\\n",
        "#       v0  0--------------0 v3-- 0 v4\n",
        "# The max cut solutions are 01011, 10100, 01010, 10101 .\n",
        "\n",
        "# First we define the graph nodes (i.e., vertices) and edges as lists of integers so that they can be broadcast into\n",
        "# a cudaq.kernel.\n",
        "nodes: List[int] = [0, 1, 2, 3, 4]\n",
        "edges = [[0, 1], [1, 2], [2, 3], [3, 0], [2, 4], [3, 4]]\n",
        "edges_src: List[int] = [edges[i][0] for i in range(len(edges))]\n",
        "edges_tgt: List[int] = [edges[i][1] for i in range(len(edges))]"
      ],
      "metadata": {
        "id": "jgXSa6-u1bY1"
      },
      "execution_count": 1,
      "outputs": []
    },
    {
      "cell_type": "code",
      "source": [],
      "metadata": {
        "id": "X7_b1DKG4pNL"
      },
      "execution_count": null,
      "outputs": []
    }
  ],
  "metadata": {
    "kernelspec": {
      "display_name": "Python 3 (ipykernel)",
      "language": "python",
      "name": "python3"
    },
    "orig_nbformat": 4,
    "colab": {
      "provenance": []
    }
  },
  "nbformat": 4,
  "nbformat_minor": 0
}